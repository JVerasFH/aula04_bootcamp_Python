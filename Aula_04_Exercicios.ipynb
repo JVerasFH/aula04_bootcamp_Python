{
 "cells": [
  {
   "cell_type": "markdown",
   "id": "80397928",
   "metadata": {},
   "source": [
    "### Exercícios "
   ]
  },
  {
   "cell_type": "code",
   "execution_count": 7,
   "id": "b88425c6",
   "metadata": {},
   "outputs": [
    {
     "name": "stdout",
     "output_type": "stream",
     "text": [
      "1\n",
      "4\n",
      "9\n",
      "16\n",
      "25\n",
      "36\n",
      "49\n",
      "64\n",
      "81\n",
      "100\n"
     ]
    }
   ],
   "source": [
    "# 01. Crie uma lista com os números de 1 a 10 e use um loop para imprimir cada número elevado ao quadrado.\n",
    "\n",
    "lista = list(range(1,11))\n",
    "\n",
    "for item in lista:\n",
    "    print(item**2)"
   ]
  },
  {
   "cell_type": "code",
   "execution_count": null,
   "id": "78c54c56",
   "metadata": {},
   "outputs": [
    {
     "name": "stdout",
     "output_type": "stream",
     "text": [
      "['Python', 'Java', 'JavaScript', 'Ruby']\n"
     ]
    }
   ],
   "source": [
    "# 02. Dada a lista [\"Python\", \"Java\", \"C++\", \"JavaScript\"], remova o item \"C++\" e adicione \"Ruby\".\n",
    "\n",
    "lista = [\"Python\", \"Java\", \"C++\", \"JavaScript\"]\n",
    "\n",
    "lista.remove(\"C++\")\n",
    "lista.append(\"Ruby\")\n",
    "\n",
    "print(lista)"
   ]
  },
  {
   "cell_type": "code",
   "execution_count": null,
   "id": "ad0d4acf",
   "metadata": {},
   "outputs": [
    {
     "name": "stdout",
     "output_type": "stream",
     "text": [
      "Título : Fundamentos de Engenharia de Dados\n",
      "Autor : Joe Reis\n",
      "Ano : 2023\n"
     ]
    }
   ],
   "source": [
    "# 03. Crie um dicionário para armazenar informações de um livro, incluindo título, autor e ano de publicação. \n",
    "# # Imprima cada informação.\n",
    "\n",
    "livros = {\"Título\":\"Fundamentos de Engenharia de Dados\", \"Autor\": \"Joe Reis\", \"Ano\":\"2023\"}\n",
    "\n",
    "for chave, valor in livros.items():\n",
    "    print(f\"{chave} : {valor}\")\n"
   ]
  },
  {
   "cell_type": "code",
   "execution_count": null,
   "id": "5d6d3afb",
   "metadata": {},
   "outputs": [
    {
     "name": "stdout",
     "output_type": "stream",
     "text": [
      "{'e': 3, 'n': 2, 'g': 1, 'h': 1, 'a': 3, 'r': 1, 'i': 1, ' ': 2, 'd': 3, 'o': 1, 's': 1}\n"
     ]
    }
   ],
   "source": [
    "# 04.Escreva um programa que conta o número de ocorrências de cada caractere em uma string usando um dicionário.\n",
    "\n",
    "def contar_caracteres(s):\n",
    "    contagem = {}\n",
    "    for caractere in s:\n",
    "        contagem[caractere] = contagem.get(caractere, 0) + 1\n",
    "    return contagem\n",
    "print(contar_caracteres(\"engenharia de dados\"))"
   ]
  },
  {
   "cell_type": "code",
   "execution_count": 9,
   "id": "4e5c3c41",
   "metadata": {},
   "outputs": [
    {
     "name": "stdout",
     "output_type": "stream",
     "text": [
      "Preço total: 1.4\n"
     ]
    }
   ],
   "source": [
    "# 5. Dada a lista [\"maçã\", \"banana\", \"cereja\"] e o dicionário {\"maçã\": 0.45, \"banana\": 0.30, \"cereja\": 0.65}, \n",
    "# calcule o preço total da lista de compras.\n",
    "\n",
    "lista_compras = [\"maçã\", \"banana\", \"cereja\"]\n",
    "precos = {\"maçã\": 0.45, \"banana\": 0.30, \"cereja\": 0.65}\n",
    "\n",
    "total = sum(precos[item] for item in lista_compras)\n",
    "print(f\"Preço total: {total}\")"
   ]
  },
  {
   "cell_type": "code",
   "execution_count": null,
   "id": "663bb2c3",
   "metadata": {},
   "outputs": [
    {
     "name": "stdout",
     "output_type": "stream",
     "text": [
      "{'admin@example.com', 'manager@example.com', 'user@example.com'}\n"
     ]
    }
   ],
   "source": [
    "# 6. Eliminação de Duplicatas\n",
    "#Objetivo: Dada uma lista de emails, remover todos os duplicados.\n",
    "\n",
    "emails = [\"user@example.com\", \"admin@example.com\", \"user@example.com\", \"manager@example.com\"]\n",
    "\n",
    "emails_unicos = list(set(emails))\n",
    "print(emails_unicos)"
   ]
  },
  {
   "cell_type": "code",
   "execution_count": 17,
   "id": "790ec8a8",
   "metadata": {},
   "outputs": [
    {
     "name": "stdout",
     "output_type": "stream",
     "text": [
      "[22, 30, 18]\n"
     ]
    }
   ],
   "source": [
    "# 7. Filtragem de Dados\n",
    "#Objetivo: Dada uma lista de idades, filtrar apenas aquelas que são maiores ou iguais a 18.\n",
    "\n",
    "idades = [22, 15, 30, 17, 18]\n",
    "\n",
    "idades_validas = [idade for idade in idades if idade >= 18]\n",
    "\n",
    "print(idades_validas)"
   ]
  },
  {
   "cell_type": "code",
   "execution_count": 18,
   "id": "871a2502",
   "metadata": {},
   "outputs": [
    {
     "name": "stdout",
     "output_type": "stream",
     "text": [
      "[{'nome': 'Alice', 'idade': 30}, {'nome': 'Bob', 'idade': 25}, {'nome': 'Carol', 'idade': 20}]\n"
     ]
    }
   ],
   "source": [
    "#8. Ordenação Personalizada\n",
    "# Objetivo: Dada uma lista de dicionários representando pessoas, ordená-las pelo nome.\n",
    "\n",
    "pessoas = [\n",
    "    {\"nome\": \"Alice\", \"idade\": 30},\n",
    "    {\"nome\": \"Bob\", \"idade\": 25},\n",
    "    {\"nome\": \"Carol\", \"idade\": 20}\n",
    "]\n",
    "\n",
    "pessoas.sort(key=lambda pessoa: pessoa[\"nome\"])\n",
    "\n",
    "print(pessoas)"
   ]
  },
  {
   "cell_type": "code",
   "execution_count": 19,
   "id": "dcf6f6e4",
   "metadata": {},
   "outputs": [
    {
     "name": "stdout",
     "output_type": "stream",
     "text": [
      "Média: 30.0\n"
     ]
    }
   ],
   "source": [
    "# 9. Agregação de Dados\n",
    "#Objetivo: Dado um conjunto de números, calcular a média.\n",
    "\n",
    "numeros = [10, 20, 30, 40, 50]\n",
    "media = sum(numeros) / len(numeros)\n",
    "\n",
    "print(\"Média:\", media)"
   ]
  },
  {
   "cell_type": "code",
   "execution_count": null,
   "id": "c7a251cc",
   "metadata": {},
   "outputs": [],
   "source": [
    "# 10. Divisão de Dados em Grupos\n",
    "#Objetivo: Dada uma lista de valores, dividir em duas listas: uma para valores pares e outra para ímpares.\n",
    "\n",
    "valores = [1, 2, 3, 4, 5, 6, 7, 8, 9, 10]\n",
    "pares = [valor for valor in valores if valor % 2 == 0]\n",
    "impares = [valor for valor in valores if valor % 2 != 0]\n",
    "\n",
    "print(\"Pares:\", pares)\n",
    "print(\"Ímpares:\", impares)"
   ]
  },
  {
   "cell_type": "code",
   "execution_count": 20,
   "id": "be60c05a",
   "metadata": {},
   "outputs": [
    {
     "name": "stdout",
     "output_type": "stream",
     "text": [
      "[{'id': 1, 'nome': 'Teclado', 'preço': 100}, {'id': 2, 'nome': 'Mouse', 'preço': 90}, {'id': 3, 'nome': 'Monitor', 'preço': 300}]\n"
     ]
    }
   ],
   "source": [
    "#11. Atualização de Dados\n",
    "#Objetivo: Dada uma lista de dicionários representando produtos, atualizar o preço de um produto específico.\n",
    "\n",
    "produtos = [\n",
    "    {\"id\": 1, \"nome\": \"Teclado\", \"preço\": 100},\n",
    "    {\"id\": 2, \"nome\": \"Mouse\", \"preço\": 80},\n",
    "    {\"id\": 3, \"nome\": \"Monitor\", \"preço\": 300}\n",
    "]\n",
    "\n",
    "# Atualizar o preço do produto com id 2 para 90\n",
    "for produto in produtos:\n",
    "    if produto[\"id\"] == 2:\n",
    "        produto[\"preço\"] = 90\n",
    "\n",
    "print(produtos)"
   ]
  },
  {
   "cell_type": "code",
   "execution_count": 21,
   "id": "295fd266",
   "metadata": {},
   "outputs": [
    {
     "name": "stdout",
     "output_type": "stream",
     "text": [
      "{'a': 1, 'b': 2, 'c': 3, 'd': 4}\n"
     ]
    }
   ],
   "source": [
    "# 12. Fusão de Dicionários\n",
    "#Objetivo: Dados dois dicionários, fundi-los em um único dicionário.\n",
    "\n",
    "dicionario1 = {\"a\": 1, \"b\": 2}\n",
    "dicionario2 = {\"c\": 3, \"d\": 4}\n",
    "\n",
    "dicionario_fundido = {**dicionario1, **dicionario2}\n",
    "\n",
    "print(dicionario_fundido)"
   ]
  },
  {
   "cell_type": "code",
   "execution_count": null,
   "id": "80aaa9de",
   "metadata": {},
   "outputs": [],
   "source": [
    "# 13. Filtragem de Dados em Dicionário\n",
    "#Objetivo: Dado um dicionário de estoque de produtos, filtrar aqueles com quantidade maior que 0.\n",
    "\n",
    "estoque = {\"Teclado\": 10, \"Mouse\": 0, \"Monitor\": 3, \"CPU\": 0}\n",
    "\n",
    "estoque_positivo = {produto: quantidade for produto, quantidade in estoque.items() if quantidade > 0}\n",
    "\n",
    "print(estoque_positivo)"
   ]
  },
  {
   "cell_type": "code",
   "execution_count": 22,
   "id": "265f6df1",
   "metadata": {},
   "outputs": [
    {
     "name": "stdout",
     "output_type": "stream",
     "text": [
      "Chaves: ['a', 'b', 'c']\n",
      "Valores: [1, 2, 3]\n"
     ]
    }
   ],
   "source": [
    "#14. Extração de Chaves e Valores\n",
    "#Objetivo: Dado um dicionário, criar listas separadas para suas chaves e valores.\n",
    "\n",
    "dicionario = {\"a\": 1, \"b\": 2, \"c\": 3}\n",
    "chaves = list(dicionario.keys())\n",
    "valores = list(dicionario.values())\n",
    "\n",
    "print(\"Chaves:\", chaves)\n",
    "print(\"Valores:\", valores)"
   ]
  },
  {
   "cell_type": "code",
   "execution_count": 23,
   "id": "3d26aa10",
   "metadata": {},
   "outputs": [
    {
     "name": "stdout",
     "output_type": "stream",
     "text": [
      "{'e': 3, 'n': 2, 'g': 1, 'h': 1, 'a': 3, 'r': 1, 'i': 1, ' ': 2, 'd': 3, 'o': 1, 's': 1}\n"
     ]
    }
   ],
   "source": [
    "#15. Contagem de Frequência de Itens\n",
    "#Objetivo: Dada uma string, contar a frequência de cada caractere usando um dicionário.\n",
    "\n",
    "texto = \"engenharia de dados\"\n",
    "frequencia = {}\n",
    "\n",
    "for caractere in texto:\n",
    "    if caractere in frequencia:\n",
    "        frequencia[caractere] += 1\n",
    "    else:\n",
    "        frequencia[caractere] = 1\n",
    "\n",
    "print(frequencia)"
   ]
  },
  {
   "cell_type": "markdown",
   "id": "31f300cc",
   "metadata": {},
   "source": [
    "### Exercícios de Funções"
   ]
  },
  {
   "cell_type": "code",
   "execution_count": 26,
   "id": "9754047c",
   "metadata": {},
   "outputs": [
    {
     "name": "stdout",
     "output_type": "stream",
     "text": [
      "7\n"
     ]
    }
   ],
   "source": [
    "#16.Escreva uma função que receba uma lista de números e retorne a soma de todos os números.\n",
    "\n",
    "def somar_numeros(lista_numeros: float) -> float:\n",
    "    soma = 0\n",
    "\n",
    "    for numero in lista_numeros:\n",
    "        soma += numero\n",
    "    return soma\n",
    "\n",
    "soma_numero = somar_numeros([1,2,4])\n",
    "print(soma_numero)\n"
   ]
  },
  {
   "cell_type": "code",
   "execution_count": 30,
   "id": "073d789b",
   "metadata": {},
   "outputs": [
    {
     "name": "stdout",
     "output_type": "stream",
     "text": [
      "True\n",
      "False\n"
     ]
    }
   ],
   "source": [
    "#17. Crie uma função que receba um número como argumento e retorne True se o número for primo e False caso contrário.\n",
    "\n",
    "def eh_primo(n):\n",
    "    if n < 2:  # 0 e 1 não são primos\n",
    "        return False\n",
    "    for i in range(2, n):\n",
    "        if n % i == 0:  # se for divisível por algum número\n",
    "            return False\n",
    "    return True\n",
    "\n",
    "print(eh_primo(7))   # True\n",
    "print(eh_primo(10))  # False\n"
   ]
  },
  {
   "cell_type": "code",
   "execution_count": 32,
   "id": "d977f5e6",
   "metadata": {},
   "outputs": [
    {
     "name": "stdout",
     "output_type": "stream",
     "text": [
      "sodad\n"
     ]
    }
   ],
   "source": [
    "# 18. Desenvolva uma função que receba uma string como argumento e retorne essa string revertida.\n",
    "\n",
    "def reverter_string(texto):\n",
    "    return texto[::-1]\n",
    "\n",
    "# Exemplo de uso\n",
    "print(reverter_string(\"dados\"))"
   ]
  },
  {
   "cell_type": "code",
   "execution_count": 33,
   "id": "924d7af9",
   "metadata": {},
   "outputs": [
    {
     "name": "stdout",
     "output_type": "stream",
     "text": [
      "[(2, 7), (4, 5), (8, 1)]\n"
     ]
    }
   ],
   "source": [
    "# 19. Implemente uma função que receba dois argumentos: uma lista de números e um número. \n",
    "# A função deve retornar todas as combinações de pares na lista que somem ao número dado.\n",
    "\n",
    "def encontrar_pares(lista, alvo):\n",
    "    pares = []\n",
    "    for i in range(len(lista)):\n",
    "        for j in range(i+1, len(lista)):  \n",
    "            if lista[i] + lista[j] == alvo:\n",
    "                pares.append((lista[i], lista[j]))\n",
    "    return pares\n",
    "\n",
    "numeros = [2, 4, 3, 7, 5, 8, 1]\n",
    "print(encontrar_pares(numeros, 9))"
   ]
  },
  {
   "cell_type": "code",
   "execution_count": 34,
   "id": "0f284e13",
   "metadata": {},
   "outputs": [
    {
     "name": "stdout",
     "output_type": "stream",
     "text": [
      "['cidade', 'idade', 'nome']\n"
     ]
    }
   ],
   "source": [
    "# 20. Escreva uma função que receba um dicionário e retorne uma lista de chaves ordenadas\n",
    "\n",
    "def ordenar_chaves(dicionario):\n",
    "    return sorted(dicionario.keys())\n",
    "\n",
    "# Exemplo de uso\n",
    "dados = {\"nome\": \"Jorge\", \"idade\": 29, \"cidade\": \"São Luís\"}\n",
    "print(ordenar_chaves(dados))\n"
   ]
  }
 ],
 "metadata": {
  "kernelspec": {
   "display_name": "Python 3",
   "language": "python",
   "name": "python3"
  },
  "language_info": {
   "codemirror_mode": {
    "name": "ipython",
    "version": 3
   },
   "file_extension": ".py",
   "mimetype": "text/x-python",
   "name": "python",
   "nbconvert_exporter": "python",
   "pygments_lexer": "ipython3",
   "version": "3.13.6"
  }
 },
 "nbformat": 4,
 "nbformat_minor": 5
}
